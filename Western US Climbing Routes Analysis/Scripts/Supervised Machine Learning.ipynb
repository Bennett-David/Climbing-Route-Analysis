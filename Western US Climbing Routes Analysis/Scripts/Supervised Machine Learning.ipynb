{
 "cells": [
  {
   "cell_type": "markdown",
   "id": "ca208acd",
   "metadata": {},
   "source": [
    "# Table of Contents:\n",
    "\n",
    "#### 1. Importing libraries and data\n",
    "#### 2. Data cleaning\n",
    "#### 3. Explore data visually \n",
    "#### 4: Hypothesis\n",
    "#### 5. Data prep for regression analysis\n",
    "#### 6. Regression analysis"
   ]
  },
  {
   "cell_type": "markdown",
   "id": "38ec21f8",
   "metadata": {},
   "source": [
    "## 1. Import libraries and data"
   ]
  },
  {
   "cell_type": "code",
   "execution_count": 1,
   "id": "363ab1db",
   "metadata": {},
   "outputs": [],
   "source": [
    "import pandas as pd\n",
    "import numpy as np\n",
    "import seaborn as sns\n",
    "import matplotlib\n",
    "import matplotlib.pyplot as plt\n",
    "import os\n",
    "import sklearn\n",
    "from sklearn.model_selection import train_test_split \n",
    "from sklearn.linear_model import LinearRegression\n",
    "from sklearn.metrics import mean_squared_error, r2_score"
   ]
  },
  {
   "cell_type": "code",
   "execution_count": 2,
   "id": "0cac69f3",
   "metadata": {},
   "outputs": [],
   "source": [
    "# This option ensures that the graphs you create are displayed within the notebook without the need to \"call\" them specifically.\n",
    "\n",
    "%matplotlib inline"
   ]
  },
  {
   "cell_type": "code",
   "execution_count": 3,
   "id": "13d1af27",
   "metadata": {},
   "outputs": [],
   "source": [
    "#setting the path for data set import\n",
    "path = r'/Users/davesmac/Desktop/Achievement 6'"
   ]
  },
  {
   "cell_type": "code",
   "execution_count": 5,
   "id": "ac3a16a5",
   "metadata": {},
   "outputs": [],
   "source": [
    "df_routes = pd.read_excel(os.path.join(path, 'Data' , 'climbing_routes_clean.xlsx'))"
   ]
  },
  {
   "cell_type": "code",
   "execution_count": 6,
   "id": "7cfb5cea",
   "metadata": {},
   "outputs": [
    {
     "data": {
      "text/html": [
       "<div>\n",
       "<style scoped>\n",
       "    .dataframe tbody tr th:only-of-type {\n",
       "        vertical-align: middle;\n",
       "    }\n",
       "\n",
       "    .dataframe tbody tr th {\n",
       "        vertical-align: top;\n",
       "    }\n",
       "\n",
       "    .dataframe thead th {\n",
       "        text-align: right;\n",
       "    }\n",
       "</style>\n",
       "<table border=\"1\" class=\"dataframe\">\n",
       "  <thead>\n",
       "    <tr style=\"text-align: right;\">\n",
       "      <th></th>\n",
       "      <th>Unnamed: 0</th>\n",
       "      <th>Route_Name</th>\n",
       "      <th>Location</th>\n",
       "      <th>Area</th>\n",
       "      <th>Region</th>\n",
       "      <th>State</th>\n",
       "      <th>Avg Stars</th>\n",
       "      <th>Route_Type</th>\n",
       "      <th>Route_Subtype</th>\n",
       "      <th>Rating</th>\n",
       "      <th>Rating_Subtype</th>\n",
       "      <th>Pitches</th>\n",
       "      <th>Length</th>\n",
       "      <th>Latitude</th>\n",
       "      <th>Longitude</th>\n",
       "      <th>Coordinates</th>\n",
       "      <th>URL</th>\n",
       "      <th>Rating Category</th>\n",
       "      <th>Length Category</th>\n",
       "    </tr>\n",
       "  </thead>\n",
       "  <tbody>\n",
       "    <tr>\n",
       "      <th>0</th>\n",
       "      <td>0</td>\n",
       "      <td>What's My Line?</td>\n",
       "      <td>Cochise Dome (What's My Line Dome) &gt; East Stro...</td>\n",
       "      <td>Cochise Stronghold</td>\n",
       "      <td>Southern Arizona</td>\n",
       "      <td>Arizona</td>\n",
       "      <td>3.7</td>\n",
       "      <td>Trad</td>\n",
       "      <td>Aid</td>\n",
       "      <td>6</td>\n",
       "      <td>A0 R</td>\n",
       "      <td>3</td>\n",
       "      <td>400.0</td>\n",
       "      <td>31.92900</td>\n",
       "      <td>-109.98167</td>\n",
       "      <td>('31.929', '-109.98167')</td>\n",
       "      <td>https://www.mountainproject.com/route/10573837...</td>\n",
       "      <td>Easy Route</td>\n",
       "      <td>Medium Route</td>\n",
       "    </tr>\n",
       "    <tr>\n",
       "      <th>1</th>\n",
       "      <td>1</td>\n",
       "      <td>Hanging Gardens</td>\n",
       "      <td>Gardener's Wall &gt; McDowell Mountains &gt; **Phoen...</td>\n",
       "      <td>**Phoenix Areas</td>\n",
       "      <td>Central Arizona</td>\n",
       "      <td>Arizona</td>\n",
       "      <td>3.3</td>\n",
       "      <td>Trad</td>\n",
       "      <td>None</td>\n",
       "      <td>6</td>\n",
       "      <td>NaN</td>\n",
       "      <td>2</td>\n",
       "      <td>NaN</td>\n",
       "      <td>33.68178</td>\n",
       "      <td>-111.80737</td>\n",
       "      <td>('33.68178', '-111.80737')</td>\n",
       "      <td>https://www.mountainproject.com/route/10587937...</td>\n",
       "      <td>Easy Route</td>\n",
       "      <td>NaN</td>\n",
       "    </tr>\n",
       "    <tr>\n",
       "      <th>2</th>\n",
       "      <td>2</td>\n",
       "      <td>East Face</td>\n",
       "      <td>The Praying Monk &gt; Camelback Mountain &gt; **Phoe...</td>\n",
       "      <td>**Phoenix Areas</td>\n",
       "      <td>Central Arizona</td>\n",
       "      <td>Arizona</td>\n",
       "      <td>3.0</td>\n",
       "      <td>Sport</td>\n",
       "      <td>None</td>\n",
       "      <td>6</td>\n",
       "      <td>NaN</td>\n",
       "      <td>1</td>\n",
       "      <td>80.0</td>\n",
       "      <td>33.51450</td>\n",
       "      <td>-111.96180</td>\n",
       "      <td>('33.5145', '-111.9618')</td>\n",
       "      <td>https://www.mountainproject.com/route/10580135...</td>\n",
       "      <td>Easy Route</td>\n",
       "      <td>Short Route</td>\n",
       "    </tr>\n",
       "    <tr>\n",
       "      <th>3</th>\n",
       "      <td>3</td>\n",
       "      <td>Southeast Arete</td>\n",
       "      <td>East Face &gt; Baboquivari Peak &gt; Southern Arizon...</td>\n",
       "      <td>Baboquivari Peak</td>\n",
       "      <td>Southern Arizona</td>\n",
       "      <td>Arizona</td>\n",
       "      <td>3.3</td>\n",
       "      <td>Trad</td>\n",
       "      <td>None</td>\n",
       "      <td>6</td>\n",
       "      <td>NaN</td>\n",
       "      <td>6</td>\n",
       "      <td>NaN</td>\n",
       "      <td>31.77129</td>\n",
       "      <td>-111.59357</td>\n",
       "      <td>('31.77129', '-111.59357')</td>\n",
       "      <td>https://www.mountainproject.com/route/10614707...</td>\n",
       "      <td>Easy Route</td>\n",
       "      <td>NaN</td>\n",
       "    </tr>\n",
       "    <tr>\n",
       "      <th>4</th>\n",
       "      <td>4</td>\n",
       "      <td>Razor's Edge</td>\n",
       "      <td>The Hand &gt; Northwest Pinnacles &gt; Superstition ...</td>\n",
       "      <td>**Phoenix Areas</td>\n",
       "      <td>Central Arizona</td>\n",
       "      <td>Arizona</td>\n",
       "      <td>2.7</td>\n",
       "      <td>Trad</td>\n",
       "      <td>None</td>\n",
       "      <td>6</td>\n",
       "      <td>NaN</td>\n",
       "      <td>3</td>\n",
       "      <td>250.0</td>\n",
       "      <td>33.45235</td>\n",
       "      <td>-111.45936</td>\n",
       "      <td>('33.45235', '-111.45936')</td>\n",
       "      <td>https://www.mountainproject.com/route/10580806...</td>\n",
       "      <td>Easy Route</td>\n",
       "      <td>Medium Route</td>\n",
       "    </tr>\n",
       "  </tbody>\n",
       "</table>\n",
       "</div>"
      ],
      "text/plain": [
       "   Unnamed: 0       Route_Name  \\\n",
       "0           0  What's My Line?   \n",
       "1           1  Hanging Gardens   \n",
       "2           2        East Face   \n",
       "3           3  Southeast Arete   \n",
       "4           4     Razor's Edge   \n",
       "\n",
       "                                            Location                  Area  \\\n",
       "0  Cochise Dome (What's My Line Dome) > East Stro...   Cochise Stronghold    \n",
       "1  Gardener's Wall > McDowell Mountains > **Phoen...      **Phoenix Areas    \n",
       "2  The Praying Monk > Camelback Mountain > **Phoe...      **Phoenix Areas    \n",
       "3  East Face > Baboquivari Peak > Southern Arizon...     Baboquivari Peak    \n",
       "4  The Hand > Northwest Pinnacles > Superstition ...      **Phoenix Areas    \n",
       "\n",
       "               Region    State  Avg Stars Route_Type Route_Subtype  Rating  \\\n",
       "0   Southern Arizona   Arizona        3.7       Trad           Aid       6   \n",
       "1    Central Arizona   Arizona        3.3       Trad          None       6   \n",
       "2    Central Arizona   Arizona        3.0      Sport          None       6   \n",
       "3   Southern Arizona   Arizona        3.3       Trad          None       6   \n",
       "4    Central Arizona   Arizona        2.7       Trad          None       6   \n",
       "\n",
       "  Rating_Subtype  Pitches  Length  Latitude  Longitude  \\\n",
       "0           A0 R        3   400.0  31.92900 -109.98167   \n",
       "1            NaN        2     NaN  33.68178 -111.80737   \n",
       "2            NaN        1    80.0  33.51450 -111.96180   \n",
       "3            NaN        6     NaN  31.77129 -111.59357   \n",
       "4            NaN        3   250.0  33.45235 -111.45936   \n",
       "\n",
       "                  Coordinates  \\\n",
       "0    ('31.929', '-109.98167')   \n",
       "1  ('33.68178', '-111.80737')   \n",
       "2    ('33.5145', '-111.9618')   \n",
       "3  ('31.77129', '-111.59357')   \n",
       "4  ('33.45235', '-111.45936')   \n",
       "\n",
       "                                                 URL Rating Category  \\\n",
       "0  https://www.mountainproject.com/route/10573837...      Easy Route   \n",
       "1  https://www.mountainproject.com/route/10587937...      Easy Route   \n",
       "2  https://www.mountainproject.com/route/10580135...      Easy Route   \n",
       "3  https://www.mountainproject.com/route/10614707...      Easy Route   \n",
       "4  https://www.mountainproject.com/route/10580806...      Easy Route   \n",
       "\n",
       "  Length Category  \n",
       "0    Medium Route  \n",
       "1             NaN  \n",
       "2     Short Route  \n",
       "3             NaN  \n",
       "4    Medium Route  "
      ]
     },
     "execution_count": 6,
     "metadata": {},
     "output_type": "execute_result"
    }
   ],
   "source": [
    "df_routes.head()"
   ]
  },
  {
   "cell_type": "code",
   "execution_count": 8,
   "id": "9e6fe818",
   "metadata": {},
   "outputs": [
    {
     "data": {
      "text/plain": [
       "(74686, 19)"
      ]
     },
     "execution_count": 8,
     "metadata": {},
     "output_type": "execute_result"
    }
   ],
   "source": [
    "df_routes.shape"
   ]
  },
  {
   "cell_type": "markdown",
   "id": "1be102fb",
   "metadata": {},
   "source": [
    "## 2. Data Cleaning"
   ]
  },
  {
   "cell_type": "markdown",
   "id": "e931132e",
   "metadata": {},
   "source": [
    "#### Note- data cleaning has already been preformed. Will run some checks to make sure all looks good.\n"
   ]
  },
  {
   "cell_type": "code",
   "execution_count": 10,
   "id": "068bcb9f",
   "metadata": {},
   "outputs": [
    {
     "data": {
      "text/plain": [
       "Unnamed: 0             0\n",
       "Route_Name             2\n",
       "Location               0\n",
       "Area                1411\n",
       "Region                 3\n",
       "State                  0\n",
       "Avg Stars              0\n",
       "Route_Type             0\n",
       "Route_Subtype       3823\n",
       "Rating                 0\n",
       "Rating_Subtype     22393\n",
       "Pitches                0\n",
       "Length              8336\n",
       "Latitude               0\n",
       "Longitude              0\n",
       "Coordinates            0\n",
       "URL                 9162\n",
       "Rating Category        0\n",
       "Length Category     8336\n",
       "dtype: int64"
      ]
     },
     "execution_count": 10,
     "metadata": {},
     "output_type": "execute_result"
    }
   ],
   "source": [
    "#Check missing values\n",
    "df_routes.isnull().sum()"
   ]
  },
  {
   "cell_type": "markdown",
   "id": "2a4cc1fd",
   "metadata": {},
   "source": [
    "#### Several categories are missing values, but most will not be important for analysis.  For example, area, route_subtype, and rating_subtype will probably not be needed for further analysis.  However, length and length category will be.  I am still working on filling missing values for the lenght category (which in turn will populate the length category column)"
   ]
  },
  {
   "cell_type": "code",
   "execution_count": 12,
   "id": "63d24bff",
   "metadata": {},
   "outputs": [],
   "source": [
    "dups = df_routes.duplicated()"
   ]
  },
  {
   "cell_type": "code",
   "execution_count": 14,
   "id": "b75b4c08",
   "metadata": {},
   "outputs": [
    {
     "data": {
      "text/plain": [
       "(74686,)"
      ]
     },
     "execution_count": 14,
     "metadata": {},
     "output_type": "execute_result"
    }
   ],
   "source": [
    "dups.shape #No duplicates"
   ]
  },
  {
   "cell_type": "code",
   "execution_count": 16,
   "id": "2c5640c6",
   "metadata": {},
   "outputs": [
    {
     "name": "stderr",
     "output_type": "stream",
     "text": [
      "/Users/davesmac/opt/anaconda3/lib/python3.9/site-packages/seaborn/distributions.py:2619: FutureWarning: `distplot` is a deprecated function and will be removed in a future version. Please adapt your code to use either `displot` (a figure-level function with similar flexibility) or `histplot` (an axes-level function for histograms).\n",
      "  warnings.warn(msg, FutureWarning)\n"
     ]
    },
    {
     "data": {
      "text/plain": [
       "<AxesSubplot:xlabel='Rating', ylabel='Density'>"
      ]
     },
     "execution_count": 16,
     "metadata": {},
     "output_type": "execute_result"
    },
    {
     "data": {
      "image/png": "[encoded data removed]",
      "text/plain": [
       "<Figure size 432x288 with 1 Axes>"
      ]
     },
     "metadata": {
      "needs_background": "light"
     },
     "output_type": "display_data"
    }
   ],
   "source": [
    "# Check for extreme values\n",
    "sns.distplot(df_routes['Rating'], bins=25) # Shows extreme values- no extreme values"
   ]
  },
  {
   "cell_type": "markdown",
   "id": "d3859575",
   "metadata": {},
   "source": [
    "## 3. Explore Data Visually"
   ]
  },
  {
   "cell_type": "code",
   "execution_count": 17,
   "id": "8e073ad1",
   "metadata": {},
   "outputs": [
    {
     "data": {
      "image/png": "[encoded data removed]",
      "text/plain": [
       "<Figure size 432x288 with 1 Axes>"
      ]
     },
     "metadata": {
      "needs_background": "light"
     },
     "output_type": "display_data"
    }
   ],
   "source": [
    "# Create a scatterplot to look at how the chosen variables plot against each other.\n",
    "\n",
    "df_routes.plot(x = 'Avg Stars', y='Rating',style='o') \n",
    "plt.title('Avg Stars vs Rating')  \n",
    "plt.xlabel('Avg Stars')  \n",
    "plt.ylabel('Rating')  \n",
    "plt.show()"
   ]
  },
  {
   "cell_type": "code",
   "execution_count": 18,
   "id": "e42d387b",
   "metadata": {},
   "outputs": [],
   "source": [
    "#Don't include any routes with avg stars = 0\n",
    "df_routes = df_routes[df_routes['Avg Stars'] >=1]"
   ]
  },
  {
   "cell_type": "code",
   "execution_count": 19,
   "id": "7f255a6f",
   "metadata": {},
   "outputs": [
    {
     "data": {
      "image/png": "[encoded data removed]",
      "text/plain": [
       "<Figure size 432x288 with 1 Axes>"
      ]
     },
     "metadata": {
      "needs_background": "light"
     },
     "output_type": "display_data"
    }
   ],
   "source": [
    "df_routes.plot(x = 'Avg Stars', y='Rating',style='o') \n",
    "plt.title('Avg Stars vs Rating')  \n",
    "plt.xlabel('Avg Stars')  \n",
    "plt.ylabel('Rating')  \n",
    "plt.show()"
   ]
  },
  {
   "cell_type": "markdown",
   "id": "dfb7d440",
   "metadata": {},
   "source": [
    "#### This scatterplot is showing a very even distribution of rating by avg stars"
   ]
  },
  {
   "cell_type": "markdown",
   "id": "ce510187",
   "metadata": {},
   "source": [
    "## 4. Hypothesis: \n",
    "\n",
    "#### The higher the rating (difficulty) of a climb, the more stars it will typically receive. "
   ]
  },
  {
   "cell_type": "markdown",
   "id": "e20e9cec",
   "metadata": {},
   "source": [
    "## 5. Data prep for regression analysis"
   ]
  },
  {
   "cell_type": "code",
   "execution_count": 21,
   "id": "0b73c43d",
   "metadata": {},
   "outputs": [],
   "source": [
    "# Reshape the variables into NumPy arrays and put them into separate objects.\n",
    "\n",
    "X = df_routes['Avg Stars'].values.reshape(-1,1)\n",
    "y = df_routes['Rating'].values.reshape(-1,1)"
   ]
  },
  {
   "cell_type": "code",
   "execution_count": 22,
   "id": "d48832a8",
   "metadata": {},
   "outputs": [
    {
     "data": {
      "text/plain": [
       "array([[3.7],\n",
       "       [3.3],\n",
       "       [3. ],\n",
       "       ...,\n",
       "       [1. ],\n",
       "       [1. ],\n",
       "       [1. ]])"
      ]
     },
     "execution_count": 22,
     "metadata": {},
     "output_type": "execute_result"
    }
   ],
   "source": [
    "X"
   ]
  },
  {
   "cell_type": "code",
   "execution_count": 23,
   "id": "f56223a0",
   "metadata": {},
   "outputs": [
    {
     "data": {
      "text/plain": [
       "array([[ 6],\n",
       "       [ 6],\n",
       "       [ 6],\n",
       "       ...,\n",
       "       [13],\n",
       "       [13],\n",
       "       [13]])"
      ]
     },
     "execution_count": 23,
     "metadata": {},
     "output_type": "execute_result"
    }
   ],
   "source": [
    "y"
   ]
  },
  {
   "cell_type": "code",
   "execution_count": 24,
   "id": "482814a6",
   "metadata": {},
   "outputs": [],
   "source": [
    "# Split data into a training set and a test set.\n",
    "\n",
    "X_train, X_test, y_train, y_test = train_test_split(X, y, test_size=0.3, random_state=0)"
   ]
  },
  {
   "cell_type": "markdown",
   "id": "c8ccbe43",
   "metadata": {},
   "source": [
    "## 6. Regression Analysis"
   ]
  },
  {
   "cell_type": "code",
   "execution_count": 25,
   "id": "1c146f60",
   "metadata": {},
   "outputs": [],
   "source": [
    "# Create a regression object.\n",
    "\n",
    "regression = LinearRegression()"
   ]
  },
  {
   "cell_type": "code",
   "execution_count": 26,
   "id": "4d4a576b",
   "metadata": {},
   "outputs": [
    {
     "data": {
      "text/plain": [
       "LinearRegression()"
      ]
     },
     "execution_count": 26,
     "metadata": {},
     "output_type": "execute_result"
    }
   ],
   "source": [
    "# Fit the regression object onto the training set.\n",
    "\n",
    "regression.fit(X_train, y_train)"
   ]
  },
  {
   "cell_type": "code",
   "execution_count": 27,
   "id": "c4c9d276",
   "metadata": {},
   "outputs": [],
   "source": [
    "# Predict the values of y using X.\n",
    "\n",
    "y_predicted = regression.predict(X_test)"
   ]
  },
  {
   "cell_type": "code",
   "execution_count": 28,
   "id": "3ec80600",
   "metadata": {},
   "outputs": [
    {
     "data": {
      "image/png": "[encoded data removed]",
      "text/plain": [
       "<Figure size 432x288 with 1 Axes>"
      ]
     },
     "metadata": {
      "needs_background": "light"
     },
     "output_type": "display_data"
    }
   ],
   "source": [
    "# Create a plot that shows the regression line from the model on the test set.\n",
    "\n",
    "plot_test = plt\n",
    "plot_test.scatter(X_test, y_test, color='blue', s = 15)\n",
    "plot_test.plot(X_test, y_predicted, color='red', linewidth =3)\n",
    "plot_test.title('Rating vs Avg Stars (Test set)')\n",
    "plot_test.xlabel('Avg Stars')\n",
    "plot_test.ylabel('Rating')\n",
    "plot_test.show()"
   ]
  },
  {
   "attachments": {},
   "cell_type": "markdown",
   "id": "e3c930b7",
   "metadata": {},
   "source": [
    "#### Based on my understanding of the data (and general climbing knowledge), the line is behaving as it should (a postive slope showing as routes get more difficult, they have a higher avg stars count).  However, the line doesn't really represent the layout of all the values.  I would think this is because my two variables are fairly constricted (ratings can only be one whole number value and avg star is typically broken up in 1/2 increments.  "
   ]
  },
  {
   "cell_type": "code",
   "execution_count": 29,
   "id": "44a111ae",
   "metadata": {},
   "outputs": [],
   "source": [
    "# Create objects that contain the model summary statistics.\n",
    "\n",
    "rmse = mean_squared_error(y_test, y_predicted)\n",
    "r2 = r2_score(y_test, y_predicted)"
   ]
  },
  {
   "cell_type": "code",
   "execution_count": 30,
   "id": "b8370eb8",
   "metadata": {},
   "outputs": [
    {
     "name": "stdout",
     "output_type": "stream",
     "text": [
      "Slope: [[0.88165523]]\n",
      "Mean squared error:  2.4858793832452357\n",
      "R2 score:  0.14411087166545755\n"
     ]
    }
   ],
   "source": [
    "# Print summary statistics. \n",
    "\n",
    "print('Slope:' ,regression.coef_)\n",
    "print('Mean squared error: ', rmse)\n",
    "print('R2 score: ', r2)"
   ]
  },
  {
   "cell_type": "markdown",
   "id": "e9d4e556",
   "metadata": {},
   "source": [
    "#### The slope is what I expected (see above) and falls in line with my hypothesis.  The MSE is fairly small (at least I assume 2.48 is small), which would lead me to believe that the regression line passes fairly close to the observations and is a good fit.  However, the R2 score is VERY low, telling me that my model is not a very good fit."
   ]
  },
  {
   "cell_type": "code",
   "execution_count": 31,
   "id": "fd2ef37a",
   "metadata": {},
   "outputs": [
    {
     "data": {
      "text/plain": [
       "array([[ 9.28202819],\n",
       "       [ 9.10569714],\n",
       "       [10.34001446],\n",
       "       ...,\n",
       "       [ 9.7228558 ],\n",
       "       [10.07551789],\n",
       "       [ 9.89918685]])"
      ]
     },
     "execution_count": 31,
     "metadata": {},
     "output_type": "execute_result"
    }
   ],
   "source": [
    "y_predicted"
   ]
  },
  {
   "cell_type": "code",
   "execution_count": 33,
   "id": "f590a940",
   "metadata": {},
   "outputs": [
    {
     "data": {
      "text/html": [
       "<div>\n",
       "<style scoped>\n",
       "    .dataframe tbody tr th:only-of-type {\n",
       "        vertical-align: middle;\n",
       "    }\n",
       "\n",
       "    .dataframe tbody tr th {\n",
       "        vertical-align: top;\n",
       "    }\n",
       "\n",
       "    .dataframe thead th {\n",
       "        text-align: right;\n",
       "    }\n",
       "</style>\n",
       "<table border=\"1\" class=\"dataframe\">\n",
       "  <thead>\n",
       "    <tr style=\"text-align: right;\">\n",
       "      <th></th>\n",
       "      <th>Actual</th>\n",
       "      <th>Predicted</th>\n",
       "    </tr>\n",
       "  </thead>\n",
       "  <tbody>\n",
       "    <tr>\n",
       "      <th>0</th>\n",
       "      <td>7</td>\n",
       "      <td>9.282028</td>\n",
       "    </tr>\n",
       "    <tr>\n",
       "      <th>1</th>\n",
       "      <td>10</td>\n",
       "      <td>9.105697</td>\n",
       "    </tr>\n",
       "    <tr>\n",
       "      <th>2</th>\n",
       "      <td>11</td>\n",
       "      <td>10.340014</td>\n",
       "    </tr>\n",
       "    <tr>\n",
       "      <th>3</th>\n",
       "      <td>10</td>\n",
       "      <td>9.811021</td>\n",
       "    </tr>\n",
       "    <tr>\n",
       "      <th>4</th>\n",
       "      <td>13</td>\n",
       "      <td>8.576704</td>\n",
       "    </tr>\n",
       "    <tr>\n",
       "      <th>5</th>\n",
       "      <td>13</td>\n",
       "      <td>9.458359</td>\n",
       "    </tr>\n",
       "    <tr>\n",
       "      <th>6</th>\n",
       "      <td>12</td>\n",
       "      <td>10.075518</td>\n",
       "    </tr>\n",
       "    <tr>\n",
       "      <th>7</th>\n",
       "      <td>10</td>\n",
       "      <td>9.987352</td>\n",
       "    </tr>\n",
       "    <tr>\n",
       "      <th>8</th>\n",
       "      <td>8</td>\n",
       "      <td>9.017532</td>\n",
       "    </tr>\n",
       "    <tr>\n",
       "      <th>9</th>\n",
       "      <td>10</td>\n",
       "      <td>10.251849</td>\n",
       "    </tr>\n",
       "    <tr>\n",
       "      <th>10</th>\n",
       "      <td>10</td>\n",
       "      <td>9.458359</td>\n",
       "    </tr>\n",
       "    <tr>\n",
       "      <th>11</th>\n",
       "      <td>11</td>\n",
       "      <td>10.340014</td>\n",
       "    </tr>\n",
       "    <tr>\n",
       "      <th>12</th>\n",
       "      <td>7</td>\n",
       "      <td>10.163683</td>\n",
       "    </tr>\n",
       "    <tr>\n",
       "      <th>13</th>\n",
       "      <td>6</td>\n",
       "      <td>8.576704</td>\n",
       "    </tr>\n",
       "    <tr>\n",
       "      <th>14</th>\n",
       "      <td>10</td>\n",
       "      <td>10.340014</td>\n",
       "    </tr>\n",
       "    <tr>\n",
       "      <th>15</th>\n",
       "      <td>10</td>\n",
       "      <td>10.340014</td>\n",
       "    </tr>\n",
       "    <tr>\n",
       "      <th>16</th>\n",
       "      <td>11</td>\n",
       "      <td>9.458359</td>\n",
       "    </tr>\n",
       "    <tr>\n",
       "      <th>17</th>\n",
       "      <td>11</td>\n",
       "      <td>10.075518</td>\n",
       "    </tr>\n",
       "    <tr>\n",
       "      <th>18</th>\n",
       "      <td>11</td>\n",
       "      <td>9.458359</td>\n",
       "    </tr>\n",
       "    <tr>\n",
       "      <th>19</th>\n",
       "      <td>10</td>\n",
       "      <td>10.075518</td>\n",
       "    </tr>\n",
       "    <tr>\n",
       "      <th>20</th>\n",
       "      <td>8</td>\n",
       "      <td>9.546525</td>\n",
       "    </tr>\n",
       "    <tr>\n",
       "      <th>21</th>\n",
       "      <td>10</td>\n",
       "      <td>9.899187</td>\n",
       "    </tr>\n",
       "    <tr>\n",
       "      <th>22</th>\n",
       "      <td>10</td>\n",
       "      <td>9.722856</td>\n",
       "    </tr>\n",
       "    <tr>\n",
       "      <th>23</th>\n",
       "      <td>10</td>\n",
       "      <td>11.221670</td>\n",
       "    </tr>\n",
       "    <tr>\n",
       "      <th>24</th>\n",
       "      <td>13</td>\n",
       "      <td>10.340014</td>\n",
       "    </tr>\n",
       "    <tr>\n",
       "      <th>25</th>\n",
       "      <td>12</td>\n",
       "      <td>10.604511</td>\n",
       "    </tr>\n",
       "    <tr>\n",
       "      <th>26</th>\n",
       "      <td>11</td>\n",
       "      <td>8.576704</td>\n",
       "    </tr>\n",
       "    <tr>\n",
       "      <th>27</th>\n",
       "      <td>9</td>\n",
       "      <td>10.251849</td>\n",
       "    </tr>\n",
       "    <tr>\n",
       "      <th>28</th>\n",
       "      <td>7</td>\n",
       "      <td>9.987352</td>\n",
       "    </tr>\n",
       "    <tr>\n",
       "      <th>29</th>\n",
       "      <td>7</td>\n",
       "      <td>9.722856</td>\n",
       "    </tr>\n",
       "  </tbody>\n",
       "</table>\n",
       "</div>"
      ],
      "text/plain": [
       "    Actual  Predicted\n",
       "0        7   9.282028\n",
       "1       10   9.105697\n",
       "2       11  10.340014\n",
       "3       10   9.811021\n",
       "4       13   8.576704\n",
       "5       13   9.458359\n",
       "6       12  10.075518\n",
       "7       10   9.987352\n",
       "8        8   9.017532\n",
       "9       10  10.251849\n",
       "10      10   9.458359\n",
       "11      11  10.340014\n",
       "12       7  10.163683\n",
       "13       6   8.576704\n",
       "14      10  10.340014\n",
       "15      10  10.340014\n",
       "16      11   9.458359\n",
       "17      11  10.075518\n",
       "18      11   9.458359\n",
       "19      10  10.075518\n",
       "20       8   9.546525\n",
       "21      10   9.899187\n",
       "22      10   9.722856\n",
       "23      10  11.221670\n",
       "24      13  10.340014\n",
       "25      12  10.604511\n",
       "26      11   8.576704\n",
       "27       9  10.251849\n",
       "28       7   9.987352\n",
       "29       7   9.722856"
      ]
     },
     "execution_count": 33,
     "metadata": {},
     "output_type": "execute_result"
    }
   ],
   "source": [
    "# df to compare y predicted vs y actual values\n",
    "\n",
    "data = pd.DataFrame({'Actual': y_test.flatten(), 'Predicted': y_predicted.flatten()})\n",
    "data.head(30)"
   ]
  },
  {
   "attachments": {},
   "cell_type": "markdown",
   "id": "21df62ae",
   "metadata": {},
   "source": [
    "#### As stated, while the regression line resembles what I hypothesized, and the MSE  value is low (thus showing that the regression line passes close to the observations, the R2 score clearly demonstrates that the model is a poor fit. Also, by looking at the predicted vs actual y values, there is quite a bit of variance, showing that the model did not do a very good job at predicting avg stars based on rating.  \n",
    "\n",
    "#### I believe that this data is inherently bias because both ratings and avg stars are essentially the opinions of mountain project users and thus subject to all the bias that comes with opinions. However, based on the number of users rating difficulty and quality of each route, I feel that there is enough data to compile an accurate average. This could also vary by route though- some routes may have been climbed/rated 1000's of times, while others just a handful.  \n"
   ]
  },
  {
   "cell_type": "markdown",
   "id": "d1848235",
   "metadata": {},
   "source": [
    "#### For my final report, I would like to run this model again with a different independent variable, such as State or Region to see if the model could predict where the highest quality routes are based on State/Region."
   ]
  },
  {
   "cell_type": "code",
   "execution_count": null,
   "id": "8aed0f61",
   "metadata": {},
   "outputs": [],
   "source": []
  }
 ],
 "metadata": {
  "kernelspec": {
   "display_name": "Python 3 (ipykernel)",
   "language": "python",
   "name": "python3"
  },
  "language_info": {
   "codemirror_mode": {
    "name": "ipython",
    "version": 3
   },
   "file_extension": ".py",
   "mimetype": "text/x-python",
   "name": "python",
   "nbconvert_exporter": "python",
   "pygments_lexer": "ipython3",
   "version": "3.9.7"
  }
 },
 "nbformat": 4,
 "nbformat_minor": 5
}
